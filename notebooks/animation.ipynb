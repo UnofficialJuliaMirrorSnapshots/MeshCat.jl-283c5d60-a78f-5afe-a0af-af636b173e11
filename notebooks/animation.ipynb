{
 "cells": [
  {
   "cell_type": "markdown",
   "metadata": {},
   "source": [
    "# MeshCat Animations\n",
    "\n",
    "MeshCat.jl also provides an animation interface, built on top of the [three.js animation system](https://threejs.org/docs/#manual/introduction/Animation-system). While it is possible to construct animation clips and tracks manually, just as you would in Three.js, it's generally easier to use the MeshCat `Animation` type.\n",
    "\n",
    "Let's show off building a simple animation. We first have to create our scene: "
   ]
  },
  {
   "cell_type": "code",
   "execution_count": null,
   "metadata": {},
   "outputs": [],
   "source": [
    "# Optional: \n",
    "# These commands tell the Julia package manager to use the exact\n",
    "# set of dependencies specified in the Project.toml and\n",
    "# Manifest.toml files in this folder. That should\n",
    "# give you a nice, reproducible environment for testing. \n",
    "\n",
    "using Pkg\n",
    "Pkg.activate(@__DIR__)\n",
    "Pkg.instantiate()"
   ]
  },
  {
   "cell_type": "code",
   "execution_count": null,
   "metadata": {},
   "outputs": [],
   "source": [
    "using MeshCat, GeometryTypes, CoordinateTransformations"
   ]
  },
  {
   "cell_type": "code",
   "execution_count": null,
   "metadata": {},
   "outputs": [],
   "source": [
    "vis = Visualizer()"
   ]
  },
  {
   "cell_type": "code",
   "execution_count": null,
   "metadata": {},
   "outputs": [],
   "source": [
    "## To open the visualizer in a new browser tab, do: \n",
    "# open(vis)\n",
    "\n",
    "## To open the visualizer inside this jupyter notebook, do: \n",
    "# IJuliaCell(vis)\n",
    "\n",
    "## To open this visualizer in a standalone window, do:\n",
    "# using Blink\n",
    "# AtomShell.isinstalled() || AtomShell.install()\n",
    "# open(vis, Window())"
   ]
  },
  {
   "cell_type": "code",
   "execution_count": null,
   "metadata": {},
   "outputs": [],
   "source": [
    "setobject!(vis[:box1], \n",
    "    HyperRectangle(Vec(0., 0, 0), Vec(0.1, 0.2, 0.3)))"
   ]
  },
  {
   "cell_type": "markdown",
   "metadata": {},
   "source": [
    "### Building an Animation\n",
    "\n",
    "We construct an animation by first creating a blank `Animation()` object. We can then use the `atframe` function to set properties or transforms of the animation at specific frames of the animation. Three.js will automatically interpolate between whatever values we provide. \n",
    "\n",
    "For example, let's animate moving the box from [0, 0, 0] to [0, 1, 0]: "
   ]
  },
  {
   "cell_type": "code",
   "execution_count": null,
   "metadata": {},
   "outputs": [],
   "source": [
    "anim = Animation()\n",
    "\n",
    "atframe(anim, vis, 0) do frame\n",
    "    # `frame` behaves like a Visualizer, in that we can\n",
    "    # call `settransform!` and `setprop!` on it, but\n",
    "    # it just stores information inside the animation\n",
    "    # rather than changing the current visualization\n",
    "    settransform!(frame[:box1], Translation(0., 0, 0))\n",
    "end\n",
    "\n",
    "atframe(anim, vis, 30) do frame\n",
    "    settransform!(frame[:box1], Translation(0., 1, 0))\n",
    "end\n",
    "\n",
    "# `setanimation!()` actually sends the animation to the\n",
    "# viewer. By default, the viewer will play the animation\n",
    "# right away. To avoid that, you can also pass `play=false`. \n",
    "setanimation!(vis, anim)"
   ]
  },
  {
   "cell_type": "markdown",
   "metadata": {},
   "source": [
    "You should see the box slide 1 meter to the right in the viewer. If you missed the animation, you can run it again from the viewer. Click \"Open Controls\", find the \"Animations\" section, and click \"play\". "
   ]
  },
  {
   "cell_type": "markdown",
   "metadata": {},
   "source": [
    "### Animating the Camera\n",
    "\n",
    "The camera is just another object in the MeshCat scene. To set its transform, we just need to index into the visualizer with the right path (note the leading `/`):"
   ]
  },
  {
   "cell_type": "code",
   "execution_count": null,
   "metadata": {},
   "outputs": [],
   "source": [
    "settransform!(vis[\"/Cameras/default\"], Translation(0, 0, 1))"
   ]
  },
  {
   "cell_type": "markdown",
   "metadata": {},
   "source": [
    "To animate the camera, we just have to do that same kind of `settransform!` to individual frames in an animation: "
   ]
  },
  {
   "cell_type": "code",
   "execution_count": null,
   "metadata": {},
   "outputs": [],
   "source": [
    "anim = Animation()\n",
    "\n",
    "atframe(anim, vis, 0) do frame\n",
    "    settransform!(frame[\"/Cameras/default\"], Translation(0., 0, 0))\n",
    "end\n",
    "\n",
    "atframe(anim, vis, 30) do frame\n",
    "    settransform!(frame[\"/Cameras/default\"], Translation(0., 0, 1))\n",
    "end\n",
    " \n",
    "setanimation!(vis, anim)"
   ]
  },
  {
   "cell_type": "markdown",
   "metadata": {},
   "source": [
    "We can also animate object properties. For example, let's animate the camera's `zoom` property to smoothly zoom out and then back in. Note that to do this, we have to access a deeper path in the visualizer to get to the actual camera object. For more information, see: https://github.com/rdeits/meshcat#camera-control"
   ]
  },
  {
   "cell_type": "code",
   "execution_count": null,
   "metadata": {},
   "outputs": [],
   "source": [
    "anim = Animation()\n",
    "\n",
    "atframe(anim, vis, 0) do frame\n",
    "    setprop!(frame[\"/Cameras/default/rotated/<object>\"], \"zoom\", 1)\n",
    "end\n",
    "\n",
    "atframe(anim, vis, 30) do frame\n",
    "    setprop!(frame[\"/Cameras/default/rotated/<object>\"], \"zoom\", 0.5)\n",
    "end\n",
    "\n",
    "atframe(anim, vis, 60) do frame\n",
    "    setprop!(frame[\"/Cameras/default/rotated/<object>\"], \"zoom\", 1)\n",
    "end\n",
    " \n",
    "setanimation!(vis, anim)"
   ]
  },
  {
   "cell_type": "markdown",
   "metadata": {},
   "source": [
    "### Recording an Animation\n",
    "\n",
    "To record an animation at a smooth, fixed frame rate, click on \"Open Controls\" in the viewer, and then go to \"Animations\" -> \"default\" -> \"Recording\" -> \"record\". This will play the entire animation, recording every frame and then let you download the resulting frames to your computer. \n",
    "\n",
    "To record activity in the MeshCat window that isn't a MeshCat animation, we suggest using a screen-capture tool like Quicktime for macOS or RecordMyDesktop for Linux. "
   ]
  },
  {
   "cell_type": "markdown",
   "metadata": {},
   "source": [
    "### Converting the Animation into a Video\n",
    "\n",
    "Currently, meshcat can only save an animation as a `.tar` file consisting of a  list of `.png` images, one for each frame. To convert that into a video, you will need to install the `ffmpeg` program, and then you can run: "
   ]
  },
  {
   "cell_type": "code",
   "execution_count": null,
   "metadata": {},
   "outputs": [],
   "source": [
    "# MeshCat.convert_frames_to_video(\"/home/rdeits/Downloads/meshcat_1528401494656.tar\", overwrite=true)"
   ]
  }
 ],
 "metadata": {
  "@webio": {
   "lastCommId": "fe9e5984003b4ab988bb0e3790ea468c",
   "lastKernelId": "465ca8c8-7e30-48ed-bf9e-ae07cf6f07a7"
  },
  "kernelspec": {
   "display_name": "Julia 1.1.0",
   "language": "julia",
   "name": "julia-1.1"
  },
  "language_info": {
   "file_extension": ".jl",
   "mimetype": "application/julia",
   "name": "julia",
   "version": "1.1.0"
  }
 },
 "nbformat": 4,
 "nbformat_minor": 2
}
